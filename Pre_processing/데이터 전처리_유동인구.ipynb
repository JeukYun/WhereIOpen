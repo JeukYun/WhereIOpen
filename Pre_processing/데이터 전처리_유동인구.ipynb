{
 "cells": [
  {
   "cell_type": "code",
   "execution_count": 1,
   "id": "f52f21d0",
   "metadata": {},
   "outputs": [],
   "source": [
    "import pandas as pd"
   ]
  },
  {
   "cell_type": "code",
   "execution_count": 2,
   "id": "e4c75bac",
   "metadata": {},
   "outputs": [],
   "source": [
    "df0830 = pd.read_csv('S-DoT_WALK_2021.08.30-09.05.csv', encoding = 'cp949')\n",
    "df0906 = pd.read_csv('S-DoT_WALK_2021.09.06-09.12.csv', encoding = 'cp949')\n",
    "df0913 = pd.read_csv('S-DoT_WALK_2021.09.13-09.19.csv', encoding = 'cp949') \n",
    "df0920 = pd.read_csv('S-DoT_WALK_2021.09.20-09.26.csv', encoding = 'cp949')\n",
    "df0928 = pd.read_csv('S-DoT_WALK_2021.09.27-10.03.csv', encoding = 'cp949')\n",
    "df1004 = pd.read_csv('S-DoT_WALK_2021.10.04-10.10.csv', encoding = 'cp949')\n",
    "df1011 = pd.read_csv('S-DoT_WALK_2021.10.11-10.17.csv', encoding = 'cp949')\n",
    "df1018 = pd.read_csv('S-DoT_WALK_2021.10.18-10.24.csv', encoding = 'cp949')\n",
    "df1025 = pd.read_csv('S-DoT_WALK_2021.10.25-10.31.csv', encoding = 'cp949')\n",
    "df1101 = pd.read_csv('S-DoT_WALK_2021.11.01-11.07.csv', encoding = 'cp949')\n",
    "df1108 = pd.read_csv('S-DoT_WALK_2021.11.08.csv', encoding = 'cp949')\n",
    "# df1109 = pd.read_excel('S-DoT_WALK_2021.11.09-11.14.xlsx')\n",
    "df1115 = pd.read_csv('S-DoT_WALK_2021.11.15-11.21.csv', encoding = 'cp949')\n",
    "df1122 = pd.read_csv('S-DoT_WALK_2021.11.22-11.28.csv', encoding = 'cp949')\n",
    "df1129 = pd.read_csv('S-DoT_WALK_2021.11.29-12.05.csv', encoding = 'cp949')\n",
    "df1206 = pd.read_csv('S-DoT_WALK_2021.12.06-12.12.csv', encoding = 'cp949')\n",
    "df1213 = pd.read_csv('S-DoT_WALK_2021.12.13-12.19.csv', encoding = 'cp949')\n",
    "df1220 = pd.read_csv('S-DoT_WALK_2021.12.20-12.26.csv', encoding = 'cp949')\n",
    "df1227 = pd.read_csv('S-DoT_WALK_2021.12.27-01.02.csv', encoding = 'cp949')"
   ]
  },
  {
   "cell_type": "code",
   "execution_count": 3,
   "id": "12cf591b",
   "metadata": {},
   "outputs": [],
   "source": [
    "df_list = [df0830, df0906, df0913, df0920, df0928, df1004, df1011, \n",
    "          df1018, df1025, df1101, df1108, df1115, df1122,\n",
    "          df1129, df1206, df1213, df1220, df1227]\n",
    "# df1109데이터만 컬럼명이 달라 제외"
   ]
  },
  {
   "cell_type": "code",
   "execution_count": 4,
   "id": "f7ed4330",
   "metadata": {},
   "outputs": [],
   "source": [
    "col_list = ['시리얼', '방문자수', '등록일자']"
   ]
  },
  {
   "cell_type": "code",
   "execution_count": 5,
   "id": "bee054d9",
   "metadata": {},
   "outputs": [
    {
     "name": "stdout",
     "output_type": "stream",
     "text": [
      "      시리얼  방문자수             등록일자\n",
      "0  4027.0   4.0  2021-08-30 0:00\n",
      "1  4033.0   8.0  2021-08-30 0:00\n",
      "      시리얼  방문자수             등록일자\n",
      "0  4027.0   6.0  2021-09-08 0:00\n",
      "1  4033.0   5.0  2021-09-08 0:00\n",
      "    시리얼  방문자수             등록일자\n",
      "0  4033     8  2021-09-13 0:00\n",
      "1  4027     6  2021-09-13 0:00\n",
      "    시리얼  방문자수             등록일자\n",
      "0  4027     4  2021-09-20 0:00\n",
      "1  4033    12  2021-09-20 0:00\n",
      "    시리얼  방문자수             등록일자\n",
      "0  4027    10  2021-09-27 0:00\n",
      "1  4033     2  2021-09-27 0:00\n",
      "    시리얼  방문자수              등록일자\n",
      "0  4027    62  2021-10-05 17:40\n",
      "1  4033    61  2021-10-05 17:40\n",
      "    시리얼  방문자수             등록일자\n",
      "0  4027     9  2021-10-12 0:00\n",
      "1  4033     5  2021-10-12 0:00\n",
      "    시리얼  방문자수             등록일자\n",
      "0  4027     3  2021-10-18 0:00\n",
      "1  4033     4  2021-10-18 0:00\n",
      "    시리얼  방문자수             등록일자\n",
      "0  4027     5  2021-10-25 0:00\n",
      "1  4033     7  2021-10-25 0:00\n",
      "    시리얼  방문자수             등록일자\n",
      "0  4027     7  2021-11-01 0:00\n",
      "1  4018   102  2021-11-01 0:00\n",
      "    시리얼  방문자수             등록일자\n",
      "0  4027     6  2021-11-08 0:00\n",
      "1  4033    21  2021-11-08 0:00\n",
      "    시리얼  방문자수             등록일자\n",
      "0  4027     8  2021-11-15 0:00\n",
      "1  4033     8  2021-11-15 0:00\n",
      "    시리얼  방문자수             등록일자\n",
      "0  4027     6  2021-11-22 0:00\n",
      "1  4033     9  2021-11-22 0:00\n",
      "    시리얼  방문자수             등록일자\n",
      "0  4033    17  2021-11-29 0:00\n",
      "1  4041     1  2021-11-29 0:00\n",
      "    시리얼  방문자수             등록일자\n",
      "0  4027    11  2021-12-06 0:00\n",
      "1  4033     9  2021-12-06 0:00\n",
      "    시리얼  방문자수             등록일자\n",
      "0  4033    12  2021-12-13 0:00\n",
      "1  4041     5  2021-12-13 0:00\n",
      "    시리얼  방문자수             등록일자\n",
      "0  4027     3  2021-12-20 0:00\n",
      "1  4033     4  2021-12-20 0:00\n",
      "              시리얼                 방문자수  등록일자\n",
      "서울시 SDOT001  4027  2021-12-27 00:00:02   NaN\n",
      "    SDOT001  4033  2021-12-27 00:00:06   NaN\n"
     ]
    }
   ],
   "source": [
    "for df in df_list:\n",
    "    df = df[col_list]\n",
    "    print(df.head(2))"
   ]
  },
  {
   "cell_type": "markdown",
   "id": "1a0a7f77",
   "metadata": {},
   "source": [
    "## 비정상 데이터\n",
    "\n",
    "- df1227 #12월 27일 데이터 -> 컬럼이 뒤바뀜 ...이상함 \n",
    "- df1109 #11월 9일데이터 -> 유일하게 컬럼명이 다름"
   ]
  },
  {
   "cell_type": "markdown",
   "id": "f8010a59",
   "metadata": {},
   "source": [
    "## 정상데이터 확인"
   ]
  },
  {
   "cell_type": "code",
   "execution_count": 6,
   "id": "73dc5ebd",
   "metadata": {
    "scrolled": true
   },
   "outputs": [
    {
     "data": {
      "text/html": [
       "<div>\n",
       "<style scoped>\n",
       "    .dataframe tbody tr th:only-of-type {\n",
       "        vertical-align: middle;\n",
       "    }\n",
       "\n",
       "    .dataframe tbody tr th {\n",
       "        vertical-align: top;\n",
       "    }\n",
       "\n",
       "    .dataframe thead th {\n",
       "        text-align: right;\n",
       "    }\n",
       "</style>\n",
       "<table border=\"1\" class=\"dataframe\">\n",
       "  <thead>\n",
       "    <tr style=\"text-align: right;\">\n",
       "      <th></th>\n",
       "      <th>기관 명</th>\n",
       "      <th>모델명</th>\n",
       "      <th>시리얼</th>\n",
       "      <th>서버타입</th>\n",
       "      <th>사이트명</th>\n",
       "      <th>방문자수</th>\n",
       "      <th>날짜</th>\n",
       "      <th>등록일자</th>\n",
       "    </tr>\n",
       "  </thead>\n",
       "  <tbody>\n",
       "    <tr>\n",
       "      <th>0</th>\n",
       "      <td>서울시</td>\n",
       "      <td>SDOT001</td>\n",
       "      <td>4027.0</td>\n",
       "      <td>00Original</td>\n",
       "      <td>4027.0</td>\n",
       "      <td>4.0</td>\n",
       "      <td>2.021080e+11</td>\n",
       "      <td>2021-08-30 0:00</td>\n",
       "    </tr>\n",
       "  </tbody>\n",
       "</table>\n",
       "</div>"
      ],
      "text/plain": [
       "  기관 명      모델명     시리얼        서버타입    사이트명  방문자수            날짜  \\\n",
       "0  서울시  SDOT001  4027.0  00Original  4027.0   4.0  2.021080e+11   \n",
       "\n",
       "              등록일자  \n",
       "0  2021-08-30 0:00  "
      ]
     },
     "execution_count": 6,
     "metadata": {},
     "output_type": "execute_result"
    }
   ],
   "source": [
    "df0830.head(1) # 정상데이터"
   ]
  },
  {
   "cell_type": "markdown",
   "id": "052ab6f5",
   "metadata": {},
   "source": [
    "## 비정상데이터 확인"
   ]
  },
  {
   "cell_type": "code",
   "execution_count": 7,
   "id": "5842def8",
   "metadata": {
    "scrolled": true
   },
   "outputs": [
    {
     "data": {
      "text/html": [
       "<div>\n",
       "<style scoped>\n",
       "    .dataframe tbody tr th:only-of-type {\n",
       "        vertical-align: middle;\n",
       "    }\n",
       "\n",
       "    .dataframe tbody tr th {\n",
       "        vertical-align: top;\n",
       "    }\n",
       "\n",
       "    .dataframe thead th {\n",
       "        text-align: right;\n",
       "    }\n",
       "</style>\n",
       "<table border=\"1\" class=\"dataframe\">\n",
       "  <thead>\n",
       "    <tr style=\"text-align: right;\">\n",
       "      <th></th>\n",
       "      <th></th>\n",
       "      <th>기관 명</th>\n",
       "      <th>모델명</th>\n",
       "      <th>시리얼</th>\n",
       "      <th>서버타입</th>\n",
       "      <th>사이트명</th>\n",
       "      <th>방문자수</th>\n",
       "      <th>날짜</th>\n",
       "      <th>등록일자</th>\n",
       "    </tr>\n",
       "  </thead>\n",
       "  <tbody>\n",
       "    <tr>\n",
       "      <th>서울시</th>\n",
       "      <th>SDOT001</th>\n",
       "      <td>4027</td>\n",
       "      <td>00Original</td>\n",
       "      <td>4027</td>\n",
       "      <td>3</td>\n",
       "      <td>202112260000</td>\n",
       "      <td>2021-12-27 00:00:02</td>\n",
       "      <td>NaN</td>\n",
       "      <td>NaN</td>\n",
       "    </tr>\n",
       "  </tbody>\n",
       "</table>\n",
       "</div>"
      ],
      "text/plain": [
       "             기관 명         모델명   시리얼  서버타입          사이트명                 방문자수  \\\n",
       "서울시 SDOT001  4027  00Original  4027     3  202112260000  2021-12-27 00:00:02   \n",
       "\n",
       "             날짜  등록일자  \n",
       "서울시 SDOT001 NaN   NaN  "
      ]
     },
     "execution_count": 7,
     "metadata": {},
     "output_type": "execute_result"
    }
   ],
   "source": [
    "df1227.head(1)\n",
    "# 인덱스가 서울시, SDOT001로 되어있음"
   ]
  },
  {
   "cell_type": "code",
   "execution_count": 8,
   "id": "12fd50af",
   "metadata": {
    "scrolled": true
   },
   "outputs": [
    {
     "data": {
      "text/html": [
       "<div>\n",
       "<style scoped>\n",
       "    .dataframe tbody tr th:only-of-type {\n",
       "        vertical-align: middle;\n",
       "    }\n",
       "\n",
       "    .dataframe tbody tr th {\n",
       "        vertical-align: top;\n",
       "    }\n",
       "\n",
       "    .dataframe thead th {\n",
       "        text-align: right;\n",
       "    }\n",
       "</style>\n",
       "<table border=\"1\" class=\"dataframe\">\n",
       "  <thead>\n",
       "    <tr style=\"text-align: right;\">\n",
       "      <th></th>\n",
       "      <th>모델명</th>\n",
       "      <th>시리얼</th>\n",
       "      <th>서버타입</th>\n",
       "      <th>사이트명</th>\n",
       "      <th>지역명</th>\n",
       "      <th>지역아이디</th>\n",
       "      <th>방문자수 (명)</th>\n",
       "      <th>날짜</th>\n",
       "      <th>등록 일시</th>\n",
       "    </tr>\n",
       "  </thead>\n",
       "  <tbody>\n",
       "    <tr>\n",
       "      <th>0</th>\n",
       "      <td>SDOT001</td>\n",
       "      <td>4027</td>\n",
       "      <td>00Original</td>\n",
       "      <td>4027</td>\n",
       "      <td>1</td>\n",
       "      <td>1</td>\n",
       "      <td>11</td>\n",
       "      <td>202111080000</td>\n",
       "      <td>2021-11-09 00:00:03</td>\n",
       "    </tr>\n",
       "  </tbody>\n",
       "</table>\n",
       "</div>"
      ],
      "text/plain": [
       "       모델명   시리얼        서버타입  사이트명  지역명  지역아이디  방문자수 (명)            날짜  \\\n",
       "0  SDOT001  4027  00Original  4027    1      1        11  202111080000   \n",
       "\n",
       "                등록 일시  \n",
       "0 2021-11-09 00:00:03  "
      ]
     },
     "execution_count": 8,
     "metadata": {},
     "output_type": "execute_result"
    }
   ],
   "source": [
    "df1109 = pd.read_excel('S-DoT_WALK_2021.11.09-11.14.xlsx')\n",
    "df1109.head(1)"
   ]
  },
  {
   "cell_type": "markdown",
   "id": "38b26119",
   "metadata": {},
   "source": [
    "### df1227 컬럼명 처리"
   ]
  },
  {
   "cell_type": "code",
   "execution_count": 9,
   "id": "fa8c8eae",
   "metadata": {},
   "outputs": [
    {
     "data": {
      "text/html": [
       "<div>\n",
       "<style scoped>\n",
       "    .dataframe tbody tr th:only-of-type {\n",
       "        vertical-align: middle;\n",
       "    }\n",
       "\n",
       "    .dataframe tbody tr th {\n",
       "        vertical-align: top;\n",
       "    }\n",
       "\n",
       "    .dataframe thead th {\n",
       "        text-align: right;\n",
       "    }\n",
       "</style>\n",
       "<table border=\"1\" class=\"dataframe\">\n",
       "  <thead>\n",
       "    <tr style=\"text-align: right;\">\n",
       "      <th></th>\n",
       "      <th>level_0</th>\n",
       "      <th>level_1</th>\n",
       "      <th>기관 명</th>\n",
       "      <th>모델명</th>\n",
       "      <th>시리얼</th>\n",
       "      <th>서버타입</th>\n",
       "      <th>사이트명</th>\n",
       "      <th>방문자수</th>\n",
       "      <th>날짜</th>\n",
       "      <th>등록일자</th>\n",
       "    </tr>\n",
       "  </thead>\n",
       "  <tbody>\n",
       "    <tr>\n",
       "      <th>0</th>\n",
       "      <td>서울시</td>\n",
       "      <td>SDOT001</td>\n",
       "      <td>4027</td>\n",
       "      <td>00Original</td>\n",
       "      <td>4027</td>\n",
       "      <td>3</td>\n",
       "      <td>202112260000</td>\n",
       "      <td>2021-12-27 00:00:02</td>\n",
       "      <td>NaN</td>\n",
       "      <td>NaN</td>\n",
       "    </tr>\n",
       "  </tbody>\n",
       "</table>\n",
       "</div>"
      ],
      "text/plain": [
       "  level_0  level_1  기관 명         모델명   시리얼  서버타입          사이트명  \\\n",
       "0     서울시  SDOT001  4027  00Original  4027     3  202112260000   \n",
       "\n",
       "                  방문자수  날짜  등록일자  \n",
       "0  2021-12-27 00:00:02 NaN   NaN  "
      ]
     },
     "execution_count": 9,
     "metadata": {},
     "output_type": "execute_result"
    }
   ],
   "source": [
    "df1227.reset_index(inplace = True)\n",
    "df1227.head(1)"
   ]
  },
  {
   "cell_type": "code",
   "execution_count": 10,
   "id": "17ebd2fc",
   "metadata": {},
   "outputs": [],
   "source": [
    "# 사용될 컬럼 : ['시리얼', '방문자수', '등록일자'] \n",
    "# df1227의 ['기관 명', '서버타입', '방문자수']에 해당\n",
    "df1227 = df1227[['기관 명', '서버타입', '방문자수']]"
   ]
  },
  {
   "cell_type": "code",
   "execution_count": 11,
   "id": "19a45b12",
   "metadata": {},
   "outputs": [
    {
     "data": {
      "text/html": [
       "<div>\n",
       "<style scoped>\n",
       "    .dataframe tbody tr th:only-of-type {\n",
       "        vertical-align: middle;\n",
       "    }\n",
       "\n",
       "    .dataframe tbody tr th {\n",
       "        vertical-align: top;\n",
       "    }\n",
       "\n",
       "    .dataframe thead th {\n",
       "        text-align: right;\n",
       "    }\n",
       "</style>\n",
       "<table border=\"1\" class=\"dataframe\">\n",
       "  <thead>\n",
       "    <tr style=\"text-align: right;\">\n",
       "      <th></th>\n",
       "      <th>기관 명</th>\n",
       "      <th>서버타입</th>\n",
       "      <th>방문자수</th>\n",
       "    </tr>\n",
       "  </thead>\n",
       "  <tbody>\n",
       "    <tr>\n",
       "      <th>0</th>\n",
       "      <td>4027</td>\n",
       "      <td>3</td>\n",
       "      <td>2021-12-27 00:00:02</td>\n",
       "    </tr>\n",
       "  </tbody>\n",
       "</table>\n",
       "</div>"
      ],
      "text/plain": [
       "   기관 명  서버타입                 방문자수\n",
       "0  4027     3  2021-12-27 00:00:02"
      ]
     },
     "execution_count": 11,
     "metadata": {},
     "output_type": "execute_result"
    }
   ],
   "source": [
    "df1227.head(1)"
   ]
  },
  {
   "cell_type": "code",
   "execution_count": 12,
   "id": "3e283c2f",
   "metadata": {},
   "outputs": [],
   "source": [
    "df1227.columns = col_list"
   ]
  },
  {
   "cell_type": "code",
   "execution_count": 13,
   "id": "4f9e5f94",
   "metadata": {
    "scrolled": true
   },
   "outputs": [
    {
     "data": {
      "text/html": [
       "<div>\n",
       "<style scoped>\n",
       "    .dataframe tbody tr th:only-of-type {\n",
       "        vertical-align: middle;\n",
       "    }\n",
       "\n",
       "    .dataframe tbody tr th {\n",
       "        vertical-align: top;\n",
       "    }\n",
       "\n",
       "    .dataframe thead th {\n",
       "        text-align: right;\n",
       "    }\n",
       "</style>\n",
       "<table border=\"1\" class=\"dataframe\">\n",
       "  <thead>\n",
       "    <tr style=\"text-align: right;\">\n",
       "      <th></th>\n",
       "      <th>시리얼</th>\n",
       "      <th>방문자수</th>\n",
       "      <th>등록일자</th>\n",
       "    </tr>\n",
       "  </thead>\n",
       "  <tbody>\n",
       "    <tr>\n",
       "      <th>0</th>\n",
       "      <td>4027</td>\n",
       "      <td>3</td>\n",
       "      <td>2021-12-27 00:00:02</td>\n",
       "    </tr>\n",
       "  </tbody>\n",
       "</table>\n",
       "</div>"
      ],
      "text/plain": [
       "    시리얼  방문자수                 등록일자\n",
       "0  4027     3  2021-12-27 00:00:02"
      ]
     },
     "execution_count": 13,
     "metadata": {},
     "output_type": "execute_result"
    }
   ],
   "source": [
    "df1227.head(1)\n",
    "# 처리 완료"
   ]
  },
  {
   "cell_type": "markdown",
   "id": "54f30875",
   "metadata": {},
   "source": [
    "### df1109 컬럼명 처리"
   ]
  },
  {
   "cell_type": "code",
   "execution_count": 14,
   "id": "3c5e827e",
   "metadata": {
    "scrolled": false
   },
   "outputs": [
    {
     "name": "stdout",
     "output_type": "stream",
     "text": [
      "<class 'pandas.core.frame.DataFrame'>\n",
      "RangeIndex: 81442 entries, 0 to 81441\n",
      "Data columns (total 9 columns):\n",
      " #   Column    Non-Null Count  Dtype         \n",
      "---  ------    --------------  -----         \n",
      " 0   모델명       81442 non-null  object        \n",
      " 1   시리얼       81442 non-null  int64         \n",
      " 2   서버타입      81442 non-null  object        \n",
      " 3   사이트명      81442 non-null  int64         \n",
      " 4   지역명       81442 non-null  int64         \n",
      " 5   지역아이디     81442 non-null  int64         \n",
      " 6   방문자수 (명)  81442 non-null  int64         \n",
      " 7   날짜        81442 non-null  int64         \n",
      " 8   등록 일시     81442 non-null  datetime64[ns]\n",
      "dtypes: datetime64[ns](1), int64(6), object(2)\n",
      "memory usage: 5.6+ MB\n"
     ]
    }
   ],
   "source": [
    "df1109.info(1) # 컬럼명 변경 필요 \n",
    "# 사용될 컬럼 : 시리얼, 방문자수, 등록일자\n",
    "# 등록일시 -> 등록일자\n",
    "# 방문자수(명) -> 방문자수\n",
    "# 나머지는 drop"
   ]
  },
  {
   "cell_type": "code",
   "execution_count": 15,
   "id": "178ab886",
   "metadata": {
    "scrolled": true
   },
   "outputs": [
    {
     "name": "stdout",
     "output_type": "stream",
     "text": [
      "<class 'pandas.core.frame.DataFrame'>\n",
      "RangeIndex: 81442 entries, 0 to 81441\n",
      "Data columns (total 9 columns):\n",
      " #   Column    Non-Null Count  Dtype         \n",
      "---  ------    --------------  -----         \n",
      " 0   모델명       81442 non-null  object        \n",
      " 1   시리얼       81442 non-null  int64         \n",
      " 2   서버타입      81442 non-null  object        \n",
      " 3   사이트명      81442 non-null  int64         \n",
      " 4   지역명       81442 non-null  int64         \n",
      " 5   지역아이디     81442 non-null  int64         \n",
      " 6   방문자수 (명)  81442 non-null  int64         \n",
      " 7   날짜        81442 non-null  int64         \n",
      " 8   등록 일시     81442 non-null  datetime64[ns]\n",
      "dtypes: datetime64[ns](1), int64(6), object(2)\n",
      "memory usage: 5.6+ MB\n"
     ]
    }
   ],
   "source": [
    "df1109.info(1)"
   ]
  },
  {
   "cell_type": "code",
   "execution_count": 16,
   "id": "9acb705c",
   "metadata": {},
   "outputs": [],
   "source": [
    "df1109 = df1109[['시리얼', '방문자수 (명)', '등록 일시']]"
   ]
  },
  {
   "cell_type": "code",
   "execution_count": 17,
   "id": "db269076",
   "metadata": {},
   "outputs": [
    {
     "data": {
      "text/html": [
       "<div>\n",
       "<style scoped>\n",
       "    .dataframe tbody tr th:only-of-type {\n",
       "        vertical-align: middle;\n",
       "    }\n",
       "\n",
       "    .dataframe tbody tr th {\n",
       "        vertical-align: top;\n",
       "    }\n",
       "\n",
       "    .dataframe thead th {\n",
       "        text-align: right;\n",
       "    }\n",
       "</style>\n",
       "<table border=\"1\" class=\"dataframe\">\n",
       "  <thead>\n",
       "    <tr style=\"text-align: right;\">\n",
       "      <th></th>\n",
       "      <th>시리얼</th>\n",
       "      <th>방문자수 (명)</th>\n",
       "      <th>등록 일시</th>\n",
       "    </tr>\n",
       "  </thead>\n",
       "  <tbody>\n",
       "    <tr>\n",
       "      <th>0</th>\n",
       "      <td>4027</td>\n",
       "      <td>11</td>\n",
       "      <td>2021-11-09 00:00:03</td>\n",
       "    </tr>\n",
       "  </tbody>\n",
       "</table>\n",
       "</div>"
      ],
      "text/plain": [
       "    시리얼  방문자수 (명)               등록 일시\n",
       "0  4027        11 2021-11-09 00:00:03"
      ]
     },
     "execution_count": 17,
     "metadata": {},
     "output_type": "execute_result"
    }
   ],
   "source": [
    "df1109.head(1)"
   ]
  },
  {
   "cell_type": "code",
   "execution_count": 18,
   "id": "3e7380ed",
   "metadata": {},
   "outputs": [],
   "source": [
    "df1109.columns = col_list"
   ]
  },
  {
   "cell_type": "code",
   "execution_count": 19,
   "id": "8a2e8167",
   "metadata": {
    "scrolled": true
   },
   "outputs": [
    {
     "data": {
      "text/html": [
       "<div>\n",
       "<style scoped>\n",
       "    .dataframe tbody tr th:only-of-type {\n",
       "        vertical-align: middle;\n",
       "    }\n",
       "\n",
       "    .dataframe tbody tr th {\n",
       "        vertical-align: top;\n",
       "    }\n",
       "\n",
       "    .dataframe thead th {\n",
       "        text-align: right;\n",
       "    }\n",
       "</style>\n",
       "<table border=\"1\" class=\"dataframe\">\n",
       "  <thead>\n",
       "    <tr style=\"text-align: right;\">\n",
       "      <th></th>\n",
       "      <th>시리얼</th>\n",
       "      <th>방문자수</th>\n",
       "      <th>등록일자</th>\n",
       "    </tr>\n",
       "  </thead>\n",
       "  <tbody>\n",
       "    <tr>\n",
       "      <th>0</th>\n",
       "      <td>4027</td>\n",
       "      <td>11</td>\n",
       "      <td>2021-11-09 00:00:03</td>\n",
       "    </tr>\n",
       "  </tbody>\n",
       "</table>\n",
       "</div>"
      ],
      "text/plain": [
       "    시리얼  방문자수                등록일자\n",
       "0  4027    11 2021-11-09 00:00:03"
      ]
     },
     "execution_count": 19,
     "metadata": {},
     "output_type": "execute_result"
    }
   ],
   "source": [
    "df1109.head(1)\n",
    "# 처리완료"
   ]
  },
  {
   "cell_type": "markdown",
   "id": "658a788e",
   "metadata": {},
   "source": [
    "### 나머지 정상데이터 컬럼 처리"
   ]
  },
  {
   "cell_type": "code",
   "execution_count": 20,
   "id": "ed36c974",
   "metadata": {},
   "outputs": [],
   "source": [
    "df0830 = df0830[col_list]\n",
    "df0906 = df0906[col_list]\n",
    "df0913 = df0913[col_list]\n",
    "df0920 = df0920[col_list]\n",
    "df0928 = df0928[col_list]\n",
    "df1004 = df1004[col_list]\n",
    "df1011 = df1011[col_list]\n",
    "df1018 = df1018[col_list]\n",
    "df1025 = df1025[col_list]\n",
    "df1101 = df1101[col_list]\n",
    "df1108 = df1108[col_list]\n",
    "df1115 = df1115[col_list]\n",
    "df1122 = df1122[col_list]\n",
    "df1129 = df1129[col_list]\n",
    "df1206 = df1206[col_list]\n",
    "df1213 = df1213[col_list]\n",
    "df1220 = df1220[col_list]\n",
    "# 이거 for문으로 할랬는데 안돼서 이렇게 노가다 해써요,..."
   ]
  },
  {
   "cell_type": "code",
   "execution_count": 21,
   "id": "e0d6c505",
   "metadata": {},
   "outputs": [
    {
     "data": {
      "text/html": [
       "<div>\n",
       "<style scoped>\n",
       "    .dataframe tbody tr th:only-of-type {\n",
       "        vertical-align: middle;\n",
       "    }\n",
       "\n",
       "    .dataframe tbody tr th {\n",
       "        vertical-align: top;\n",
       "    }\n",
       "\n",
       "    .dataframe thead th {\n",
       "        text-align: right;\n",
       "    }\n",
       "</style>\n",
       "<table border=\"1\" class=\"dataframe\">\n",
       "  <thead>\n",
       "    <tr style=\"text-align: right;\">\n",
       "      <th></th>\n",
       "      <th>시리얼</th>\n",
       "      <th>방문자수</th>\n",
       "      <th>등록일자</th>\n",
       "    </tr>\n",
       "  </thead>\n",
       "  <tbody>\n",
       "    <tr>\n",
       "      <th>0</th>\n",
       "      <td>4027.0</td>\n",
       "      <td>4.0</td>\n",
       "      <td>2021-08-30 0:00</td>\n",
       "    </tr>\n",
       "  </tbody>\n",
       "</table>\n",
       "</div>"
      ],
      "text/plain": [
       "      시리얼  방문자수             등록일자\n",
       "0  4027.0   4.0  2021-08-30 0:00"
      ]
     },
     "execution_count": 21,
     "metadata": {},
     "output_type": "execute_result"
    }
   ],
   "source": [
    "df0830.head(1)"
   ]
  },
  {
   "cell_type": "code",
   "execution_count": 22,
   "id": "8ee054c0",
   "metadata": {
    "scrolled": false
   },
   "outputs": [
    {
     "name": "stdout",
     "output_type": "stream",
     "text": [
      "<class 'pandas.core.frame.DataFrame'>\n",
      "RangeIndex: 52527 entries, 0 to 52526\n",
      "Data columns (total 3 columns):\n",
      " #   Column  Non-Null Count  Dtype  \n",
      "---  ------  --------------  -----  \n",
      " 0   시리얼     52526 non-null  float64\n",
      " 1   방문자수    52526 non-null  float64\n",
      " 2   등록일자    52527 non-null  object \n",
      "dtypes: float64(2), object(1)\n",
      "memory usage: 1.2+ MB\n"
     ]
    }
   ],
   "source": [
    "df0830.info()"
   ]
  },
  {
   "cell_type": "code",
   "execution_count": 23,
   "id": "967907af",
   "metadata": {},
   "outputs": [
    {
     "name": "stdout",
     "output_type": "stream",
     "text": [
      "<class 'pandas.core.frame.DataFrame'>\n",
      "RangeIndex: 81442 entries, 0 to 81441\n",
      "Data columns (total 3 columns):\n",
      " #   Column  Non-Null Count  Dtype         \n",
      "---  ------  --------------  -----         \n",
      " 0   시리얼     81442 non-null  int64         \n",
      " 1   방문자수    81442 non-null  int64         \n",
      " 2   등록일자    81442 non-null  datetime64[ns]\n",
      "dtypes: datetime64[ns](1), int64(2)\n",
      "memory usage: 1.9 MB\n"
     ]
    }
   ],
   "source": [
    "df1109.info()"
   ]
  },
  {
   "cell_type": "code",
   "execution_count": 24,
   "id": "602d7a3d",
   "metadata": {
    "scrolled": true
   },
   "outputs": [
    {
     "name": "stdout",
     "output_type": "stream",
     "text": [
      "<class 'pandas.core.frame.DataFrame'>\n",
      "RangeIndex: 87789 entries, 0 to 87788\n",
      "Data columns (total 3 columns):\n",
      " #   Column  Non-Null Count  Dtype \n",
      "---  ------  --------------  ----- \n",
      " 0   시리얼     87789 non-null  int64 \n",
      " 1   방문자수    87789 non-null  int64 \n",
      " 2   등록일자    87789 non-null  object\n",
      "dtypes: int64(2), object(1)\n",
      "memory usage: 2.0+ MB\n"
     ]
    }
   ],
   "source": [
    "df1227.info()"
   ]
  },
  {
   "cell_type": "code",
   "execution_count": 25,
   "id": "81bffb9c",
   "metadata": {},
   "outputs": [
    {
     "data": {
      "text/html": [
       "<div>\n",
       "<style scoped>\n",
       "    .dataframe tbody tr th:only-of-type {\n",
       "        vertical-align: middle;\n",
       "    }\n",
       "\n",
       "    .dataframe tbody tr th {\n",
       "        vertical-align: top;\n",
       "    }\n",
       "\n",
       "    .dataframe thead th {\n",
       "        text-align: right;\n",
       "    }\n",
       "</style>\n",
       "<table border=\"1\" class=\"dataframe\">\n",
       "  <thead>\n",
       "    <tr style=\"text-align: right;\">\n",
       "      <th></th>\n",
       "      <th>시리얼</th>\n",
       "      <th>방문자수</th>\n",
       "      <th>등록일자</th>\n",
       "    </tr>\n",
       "  </thead>\n",
       "  <tbody>\n",
       "    <tr>\n",
       "      <th>0</th>\n",
       "      <td>4027</td>\n",
       "      <td>3</td>\n",
       "      <td>2021-12-27 00:00:02</td>\n",
       "    </tr>\n",
       "    <tr>\n",
       "      <th>1</th>\n",
       "      <td>4033</td>\n",
       "      <td>4</td>\n",
       "      <td>2021-12-27 00:00:06</td>\n",
       "    </tr>\n",
       "    <tr>\n",
       "      <th>2</th>\n",
       "      <td>4041</td>\n",
       "      <td>0</td>\n",
       "      <td>2021-12-27 00:00:11</td>\n",
       "    </tr>\n",
       "    <tr>\n",
       "      <th>3</th>\n",
       "      <td>4015</td>\n",
       "      <td>10</td>\n",
       "      <td>2021-12-27 00:00:16</td>\n",
       "    </tr>\n",
       "    <tr>\n",
       "      <th>4</th>\n",
       "      <td>4031</td>\n",
       "      <td>1</td>\n",
       "      <td>2021-12-27 00:00:22</td>\n",
       "    </tr>\n",
       "  </tbody>\n",
       "</table>\n",
       "</div>"
      ],
      "text/plain": [
       "    시리얼  방문자수                 등록일자\n",
       "0  4027     3  2021-12-27 00:00:02\n",
       "1  4033     4  2021-12-27 00:00:06\n",
       "2  4041     0  2021-12-27 00:00:11\n",
       "3  4015    10  2021-12-27 00:00:16\n",
       "4  4031     1  2021-12-27 00:00:22"
      ]
     },
     "execution_count": 25,
     "metadata": {},
     "output_type": "execute_result"
    }
   ],
   "source": [
    "df1227.head()"
   ]
  },
  {
   "cell_type": "markdown",
   "id": "334a2753",
   "metadata": {},
   "source": [
    "## 데이터 병합"
   ]
  },
  {
   "cell_type": "code",
   "execution_count": 26,
   "id": "b10369eb",
   "metadata": {},
   "outputs": [],
   "source": [
    "# df_list2에 df1109, df1227 추가\n",
    "df_list2 = [df0830, df0906, df0913, df0920, df0928, df1004, df1011, \n",
    "          df1018, df1025, df1101, df1108, df1109, df1115, df1122,\n",
    "          df1129, df1206, df1213, df1220, df1227]"
   ]
  },
  {
   "cell_type": "code",
   "execution_count": 27,
   "id": "698f2cee",
   "metadata": {},
   "outputs": [],
   "source": [
    "df_all = pd.concat(df_list2, ignore_index = True)"
   ]
  },
  {
   "cell_type": "code",
   "execution_count": 28,
   "id": "c7315db7",
   "metadata": {
    "scrolled": true
   },
   "outputs": [
    {
     "name": "stdout",
     "output_type": "stream",
     "text": [
      "<class 'pandas.core.frame.DataFrame'>\n",
      "RangeIndex: 1469762 entries, 0 to 1469761\n",
      "Data columns (total 3 columns):\n",
      " #   Column  Non-Null Count    Dtype  \n",
      "---  ------  --------------    -----  \n",
      " 0   시리얼     1469760 non-null  float64\n",
      " 1   방문자수    1469760 non-null  float64\n",
      " 2   등록일자    1469762 non-null  object \n",
      "dtypes: float64(2), object(1)\n",
      "memory usage: 33.6+ MB\n"
     ]
    }
   ],
   "source": [
    "df_all.info()\n",
    "#결측치 2개... 왜나왔는지 모르겠는데 그냥 삭제하려구요.."
   ]
  },
  {
   "cell_type": "code",
   "execution_count": 29,
   "id": "a45a8248",
   "metadata": {},
   "outputs": [
    {
     "data": {
      "text/html": [
       "<div>\n",
       "<style scoped>\n",
       "    .dataframe tbody tr th:only-of-type {\n",
       "        vertical-align: middle;\n",
       "    }\n",
       "\n",
       "    .dataframe tbody tr th {\n",
       "        vertical-align: top;\n",
       "    }\n",
       "\n",
       "    .dataframe thead th {\n",
       "        text-align: right;\n",
       "    }\n",
       "</style>\n",
       "<table border=\"1\" class=\"dataframe\">\n",
       "  <thead>\n",
       "    <tr style=\"text-align: right;\">\n",
       "      <th></th>\n",
       "      <th>시리얼</th>\n",
       "      <th>방문자수</th>\n",
       "      <th>등록일자</th>\n",
       "    </tr>\n",
       "  </thead>\n",
       "  <tbody>\n",
       "    <tr>\n",
       "      <th>0</th>\n",
       "      <td>4027.0</td>\n",
       "      <td>4.0</td>\n",
       "      <td>2021-08-30 0:00</td>\n",
       "    </tr>\n",
       "    <tr>\n",
       "      <th>1</th>\n",
       "      <td>4033.0</td>\n",
       "      <td>8.0</td>\n",
       "      <td>2021-08-30 0:00</td>\n",
       "    </tr>\n",
       "    <tr>\n",
       "      <th>2</th>\n",
       "      <td>4041.0</td>\n",
       "      <td>2.0</td>\n",
       "      <td>2021-08-30 0:00</td>\n",
       "    </tr>\n",
       "    <tr>\n",
       "      <th>3</th>\n",
       "      <td>4015.0</td>\n",
       "      <td>3.0</td>\n",
       "      <td>2021-08-30 0:00</td>\n",
       "    </tr>\n",
       "    <tr>\n",
       "      <th>4</th>\n",
       "      <td>4031.0</td>\n",
       "      <td>3.0</td>\n",
       "      <td>2021-08-30 0:00</td>\n",
       "    </tr>\n",
       "  </tbody>\n",
       "</table>\n",
       "</div>"
      ],
      "text/plain": [
       "      시리얼  방문자수             등록일자\n",
       "0  4027.0   4.0  2021-08-30 0:00\n",
       "1  4033.0   8.0  2021-08-30 0:00\n",
       "2  4041.0   2.0  2021-08-30 0:00\n",
       "3  4015.0   3.0  2021-08-30 0:00\n",
       "4  4031.0   3.0  2021-08-30 0:00"
      ]
     },
     "execution_count": 29,
     "metadata": {},
     "output_type": "execute_result"
    }
   ],
   "source": [
    "df_all.head()"
   ]
  },
  {
   "cell_type": "code",
   "execution_count": 30,
   "id": "8843058f",
   "metadata": {},
   "outputs": [],
   "source": [
    "df_all.dropna(inplace = True)"
   ]
  },
  {
   "cell_type": "code",
   "execution_count": 31,
   "id": "e23be2d0",
   "metadata": {},
   "outputs": [
    {
     "name": "stdout",
     "output_type": "stream",
     "text": [
      "<class 'pandas.core.frame.DataFrame'>\n",
      "Int64Index: 1469760 entries, 0 to 1469761\n",
      "Data columns (total 3 columns):\n",
      " #   Column  Non-Null Count    Dtype  \n",
      "---  ------  --------------    -----  \n",
      " 0   시리얼     1469760 non-null  float64\n",
      " 1   방문자수    1469760 non-null  float64\n",
      " 2   등록일자    1469760 non-null  object \n",
      "dtypes: float64(2), object(1)\n",
      "memory usage: 44.9+ MB\n"
     ]
    }
   ],
   "source": [
    "df_all.info()"
   ]
  },
  {
   "cell_type": "markdown",
   "id": "f827788b",
   "metadata": {},
   "source": [
    "### 등록일자 -> 날짜형식 변경"
   ]
  },
  {
   "cell_type": "code",
   "execution_count": 32,
   "id": "3a5901d0",
   "metadata": {},
   "outputs": [
    {
     "data": {
      "text/html": [
       "<div>\n",
       "<style scoped>\n",
       "    .dataframe tbody tr th:only-of-type {\n",
       "        vertical-align: middle;\n",
       "    }\n",
       "\n",
       "    .dataframe tbody tr th {\n",
       "        vertical-align: top;\n",
       "    }\n",
       "\n",
       "    .dataframe thead th {\n",
       "        text-align: right;\n",
       "    }\n",
       "</style>\n",
       "<table border=\"1\" class=\"dataframe\">\n",
       "  <thead>\n",
       "    <tr style=\"text-align: right;\">\n",
       "      <th></th>\n",
       "      <th>시리얼</th>\n",
       "      <th>방문자수</th>\n",
       "      <th>등록일자</th>\n",
       "    </tr>\n",
       "  </thead>\n",
       "  <tbody>\n",
       "    <tr>\n",
       "      <th>0</th>\n",
       "      <td>4027.0</td>\n",
       "      <td>4.0</td>\n",
       "      <td>2021-08-30 0:00</td>\n",
       "    </tr>\n",
       "  </tbody>\n",
       "</table>\n",
       "</div>"
      ],
      "text/plain": [
       "      시리얼  방문자수             등록일자\n",
       "0  4027.0   4.0  2021-08-30 0:00"
      ]
     },
     "execution_count": 32,
     "metadata": {},
     "output_type": "execute_result"
    }
   ],
   "source": [
    "df_all.head(1)"
   ]
  },
  {
   "cell_type": "code",
   "execution_count": 33,
   "id": "02a5e9ff",
   "metadata": {},
   "outputs": [],
   "source": [
    "df_all['new_등록일자'] = pd.to_datetime(df_all['등록일자'])"
   ]
  },
  {
   "cell_type": "code",
   "execution_count": 34,
   "id": "8add7e9a",
   "metadata": {},
   "outputs": [
    {
     "name": "stdout",
     "output_type": "stream",
     "text": [
      "<class 'pandas.core.frame.DataFrame'>\n",
      "Int64Index: 1469760 entries, 0 to 1469761\n",
      "Data columns (total 4 columns):\n",
      " #   Column    Non-Null Count    Dtype         \n",
      "---  ------    --------------    -----         \n",
      " 0   시리얼       1469760 non-null  float64       \n",
      " 1   방문자수      1469760 non-null  float64       \n",
      " 2   등록일자      1469760 non-null  object        \n",
      " 3   new_등록일자  1469760 non-null  datetime64[ns]\n",
      "dtypes: datetime64[ns](1), float64(2), object(1)\n",
      "memory usage: 56.1+ MB\n"
     ]
    }
   ],
   "source": [
    "df_all.info()"
   ]
  },
  {
   "cell_type": "code",
   "execution_count": 35,
   "id": "8f1ee6a6",
   "metadata": {},
   "outputs": [
    {
     "data": {
      "text/html": [
       "<div>\n",
       "<style scoped>\n",
       "    .dataframe tbody tr th:only-of-type {\n",
       "        vertical-align: middle;\n",
       "    }\n",
       "\n",
       "    .dataframe tbody tr th {\n",
       "        vertical-align: top;\n",
       "    }\n",
       "\n",
       "    .dataframe thead th {\n",
       "        text-align: right;\n",
       "    }\n",
       "</style>\n",
       "<table border=\"1\" class=\"dataframe\">\n",
       "  <thead>\n",
       "    <tr style=\"text-align: right;\">\n",
       "      <th></th>\n",
       "      <th>시리얼</th>\n",
       "      <th>방문자수</th>\n",
       "      <th>등록일자</th>\n",
       "      <th>new_등록일자</th>\n",
       "    </tr>\n",
       "  </thead>\n",
       "  <tbody>\n",
       "    <tr>\n",
       "      <th>0</th>\n",
       "      <td>4027.0</td>\n",
       "      <td>4.0</td>\n",
       "      <td>2021-08-30 0:00</td>\n",
       "      <td>2021-08-30 00:00:00</td>\n",
       "    </tr>\n",
       "    <tr>\n",
       "      <th>1</th>\n",
       "      <td>4033.0</td>\n",
       "      <td>8.0</td>\n",
       "      <td>2021-08-30 0:00</td>\n",
       "      <td>2021-08-30 00:00:00</td>\n",
       "    </tr>\n",
       "    <tr>\n",
       "      <th>2</th>\n",
       "      <td>4041.0</td>\n",
       "      <td>2.0</td>\n",
       "      <td>2021-08-30 0:00</td>\n",
       "      <td>2021-08-30 00:00:00</td>\n",
       "    </tr>\n",
       "    <tr>\n",
       "      <th>3</th>\n",
       "      <td>4015.0</td>\n",
       "      <td>3.0</td>\n",
       "      <td>2021-08-30 0:00</td>\n",
       "      <td>2021-08-30 00:00:00</td>\n",
       "    </tr>\n",
       "    <tr>\n",
       "      <th>4</th>\n",
       "      <td>4031.0</td>\n",
       "      <td>3.0</td>\n",
       "      <td>2021-08-30 0:00</td>\n",
       "      <td>2021-08-30 00:00:00</td>\n",
       "    </tr>\n",
       "    <tr>\n",
       "      <th>...</th>\n",
       "      <td>...</td>\n",
       "      <td>...</td>\n",
       "      <td>...</td>\n",
       "      <td>...</td>\n",
       "    </tr>\n",
       "    <tr>\n",
       "      <th>1469757</th>\n",
       "      <td>4040.0</td>\n",
       "      <td>9.0</td>\n",
       "      <td>2022-01-02 23:57:42</td>\n",
       "      <td>2022-01-02 23:57:42</td>\n",
       "    </tr>\n",
       "    <tr>\n",
       "      <th>1469758</th>\n",
       "      <td>4042.0</td>\n",
       "      <td>1.0</td>\n",
       "      <td>2022-01-02 23:57:48</td>\n",
       "      <td>2022-01-02 23:57:48</td>\n",
       "    </tr>\n",
       "    <tr>\n",
       "      <th>1469759</th>\n",
       "      <td>4025.0</td>\n",
       "      <td>0.0</td>\n",
       "      <td>2022-01-02 23:57:52</td>\n",
       "      <td>2022-01-02 23:57:52</td>\n",
       "    </tr>\n",
       "    <tr>\n",
       "      <th>1469760</th>\n",
       "      <td>4044.0</td>\n",
       "      <td>0.0</td>\n",
       "      <td>2022-01-02 23:58:05</td>\n",
       "      <td>2022-01-02 23:58:05</td>\n",
       "    </tr>\n",
       "    <tr>\n",
       "      <th>1469761</th>\n",
       "      <td>4044.0</td>\n",
       "      <td>0.0</td>\n",
       "      <td>2022-01-02 23:59:06</td>\n",
       "      <td>2022-01-02 23:59:06</td>\n",
       "    </tr>\n",
       "  </tbody>\n",
       "</table>\n",
       "<p>1469760 rows × 4 columns</p>\n",
       "</div>"
      ],
      "text/plain": [
       "            시리얼  방문자수                 등록일자            new_등록일자\n",
       "0        4027.0   4.0      2021-08-30 0:00 2021-08-30 00:00:00\n",
       "1        4033.0   8.0      2021-08-30 0:00 2021-08-30 00:00:00\n",
       "2        4041.0   2.0      2021-08-30 0:00 2021-08-30 00:00:00\n",
       "3        4015.0   3.0      2021-08-30 0:00 2021-08-30 00:00:00\n",
       "4        4031.0   3.0      2021-08-30 0:00 2021-08-30 00:00:00\n",
       "...         ...   ...                  ...                 ...\n",
       "1469757  4040.0   9.0  2022-01-02 23:57:42 2022-01-02 23:57:42\n",
       "1469758  4042.0   1.0  2022-01-02 23:57:48 2022-01-02 23:57:48\n",
       "1469759  4025.0   0.0  2022-01-02 23:57:52 2022-01-02 23:57:52\n",
       "1469760  4044.0   0.0  2022-01-02 23:58:05 2022-01-02 23:58:05\n",
       "1469761  4044.0   0.0  2022-01-02 23:59:06 2022-01-02 23:59:06\n",
       "\n",
       "[1469760 rows x 4 columns]"
      ]
     },
     "execution_count": 35,
     "metadata": {},
     "output_type": "execute_result"
    }
   ],
   "source": [
    "df_all"
   ]
  },
  {
   "cell_type": "code",
   "execution_count": 36,
   "id": "a42174ce",
   "metadata": {},
   "outputs": [],
   "source": [
    "df_all['날짜'] = df_all['new_등록일자'].dt.strftime('%y-%m-%d')\n",
    "#날짜 추가"
   ]
  },
  {
   "cell_type": "code",
   "execution_count": 37,
   "id": "c6f10bfc",
   "metadata": {
    "scrolled": true
   },
   "outputs": [
    {
     "data": {
      "text/html": [
       "<div>\n",
       "<style scoped>\n",
       "    .dataframe tbody tr th:only-of-type {\n",
       "        vertical-align: middle;\n",
       "    }\n",
       "\n",
       "    .dataframe tbody tr th {\n",
       "        vertical-align: top;\n",
       "    }\n",
       "\n",
       "    .dataframe thead th {\n",
       "        text-align: right;\n",
       "    }\n",
       "</style>\n",
       "<table border=\"1\" class=\"dataframe\">\n",
       "  <thead>\n",
       "    <tr style=\"text-align: right;\">\n",
       "      <th></th>\n",
       "      <th>시리얼</th>\n",
       "      <th>방문자수</th>\n",
       "      <th>등록일자</th>\n",
       "      <th>new_등록일자</th>\n",
       "      <th>날짜</th>\n",
       "    </tr>\n",
       "  </thead>\n",
       "  <tbody>\n",
       "    <tr>\n",
       "      <th>0</th>\n",
       "      <td>4027.0</td>\n",
       "      <td>4.0</td>\n",
       "      <td>2021-08-30 0:00</td>\n",
       "      <td>2021-08-30</td>\n",
       "      <td>21-08-30</td>\n",
       "    </tr>\n",
       "    <tr>\n",
       "      <th>1</th>\n",
       "      <td>4033.0</td>\n",
       "      <td>8.0</td>\n",
       "      <td>2021-08-30 0:00</td>\n",
       "      <td>2021-08-30</td>\n",
       "      <td>21-08-30</td>\n",
       "    </tr>\n",
       "    <tr>\n",
       "      <th>2</th>\n",
       "      <td>4041.0</td>\n",
       "      <td>2.0</td>\n",
       "      <td>2021-08-30 0:00</td>\n",
       "      <td>2021-08-30</td>\n",
       "      <td>21-08-30</td>\n",
       "    </tr>\n",
       "  </tbody>\n",
       "</table>\n",
       "</div>"
      ],
      "text/plain": [
       "      시리얼  방문자수             등록일자   new_등록일자        날짜\n",
       "0  4027.0   4.0  2021-08-30 0:00 2021-08-30  21-08-30\n",
       "1  4033.0   8.0  2021-08-30 0:00 2021-08-30  21-08-30\n",
       "2  4041.0   2.0  2021-08-30 0:00 2021-08-30  21-08-30"
      ]
     },
     "execution_count": 37,
     "metadata": {},
     "output_type": "execute_result"
    }
   ],
   "source": [
    "df_all.head(3)"
   ]
  },
  {
   "cell_type": "code",
   "execution_count": 38,
   "id": "26146de4",
   "metadata": {},
   "outputs": [
    {
     "name": "stdout",
     "output_type": "stream",
     "text": [
      "<class 'pandas.core.frame.DataFrame'>\n",
      "Int64Index: 1469760 entries, 0 to 1469761\n",
      "Data columns (total 5 columns):\n",
      " #   Column    Non-Null Count    Dtype         \n",
      "---  ------    --------------    -----         \n",
      " 0   시리얼       1469760 non-null  float64       \n",
      " 1   방문자수      1469760 non-null  float64       \n",
      " 2   등록일자      1469760 non-null  object        \n",
      " 3   new_등록일자  1469760 non-null  datetime64[ns]\n",
      " 4   날짜        1469760 non-null  object        \n",
      "dtypes: datetime64[ns](1), float64(2), object(2)\n",
      "memory usage: 67.3+ MB\n"
     ]
    }
   ],
   "source": [
    "df_all.info()"
   ]
  },
  {
   "cell_type": "code",
   "execution_count": 39,
   "id": "2552ae65",
   "metadata": {},
   "outputs": [],
   "source": [
    "df_all['분기'] = df_all['new_등록일자'].dt.month"
   ]
  },
  {
   "cell_type": "code",
   "execution_count": 40,
   "id": "d771a7b0",
   "metadata": {},
   "outputs": [
    {
     "data": {
      "text/html": [
       "<div>\n",
       "<style scoped>\n",
       "    .dataframe tbody tr th:only-of-type {\n",
       "        vertical-align: middle;\n",
       "    }\n",
       "\n",
       "    .dataframe tbody tr th {\n",
       "        vertical-align: top;\n",
       "    }\n",
       "\n",
       "    .dataframe thead th {\n",
       "        text-align: right;\n",
       "    }\n",
       "</style>\n",
       "<table border=\"1\" class=\"dataframe\">\n",
       "  <thead>\n",
       "    <tr style=\"text-align: right;\">\n",
       "      <th></th>\n",
       "      <th>시리얼</th>\n",
       "      <th>방문자수</th>\n",
       "      <th>등록일자</th>\n",
       "      <th>new_등록일자</th>\n",
       "      <th>날짜</th>\n",
       "      <th>분기</th>\n",
       "    </tr>\n",
       "  </thead>\n",
       "  <tbody>\n",
       "    <tr>\n",
       "      <th>0</th>\n",
       "      <td>4027.0</td>\n",
       "      <td>4.0</td>\n",
       "      <td>2021-08-30 0:00</td>\n",
       "      <td>2021-08-30</td>\n",
       "      <td>21-08-30</td>\n",
       "      <td>8</td>\n",
       "    </tr>\n",
       "    <tr>\n",
       "      <th>1</th>\n",
       "      <td>4033.0</td>\n",
       "      <td>8.0</td>\n",
       "      <td>2021-08-30 0:00</td>\n",
       "      <td>2021-08-30</td>\n",
       "      <td>21-08-30</td>\n",
       "      <td>8</td>\n",
       "    </tr>\n",
       "    <tr>\n",
       "      <th>2</th>\n",
       "      <td>4041.0</td>\n",
       "      <td>2.0</td>\n",
       "      <td>2021-08-30 0:00</td>\n",
       "      <td>2021-08-30</td>\n",
       "      <td>21-08-30</td>\n",
       "      <td>8</td>\n",
       "    </tr>\n",
       "    <tr>\n",
       "      <th>3</th>\n",
       "      <td>4015.0</td>\n",
       "      <td>3.0</td>\n",
       "      <td>2021-08-30 0:00</td>\n",
       "      <td>2021-08-30</td>\n",
       "      <td>21-08-30</td>\n",
       "      <td>8</td>\n",
       "    </tr>\n",
       "    <tr>\n",
       "      <th>4</th>\n",
       "      <td>4031.0</td>\n",
       "      <td>3.0</td>\n",
       "      <td>2021-08-30 0:00</td>\n",
       "      <td>2021-08-30</td>\n",
       "      <td>21-08-30</td>\n",
       "      <td>8</td>\n",
       "    </tr>\n",
       "  </tbody>\n",
       "</table>\n",
       "</div>"
      ],
      "text/plain": [
       "      시리얼  방문자수             등록일자   new_등록일자        날짜  분기\n",
       "0  4027.0   4.0  2021-08-30 0:00 2021-08-30  21-08-30   8\n",
       "1  4033.0   8.0  2021-08-30 0:00 2021-08-30  21-08-30   8\n",
       "2  4041.0   2.0  2021-08-30 0:00 2021-08-30  21-08-30   8\n",
       "3  4015.0   3.0  2021-08-30 0:00 2021-08-30  21-08-30   8\n",
       "4  4031.0   3.0  2021-08-30 0:00 2021-08-30  21-08-30   8"
      ]
     },
     "execution_count": 40,
     "metadata": {},
     "output_type": "execute_result"
    }
   ],
   "source": [
    "df_all.head()"
   ]
  },
  {
   "cell_type": "code",
   "execution_count": 41,
   "id": "f8fc3854",
   "metadata": {},
   "outputs": [
    {
     "name": "stderr",
     "output_type": "stream",
     "text": [
      "/home/ubuntu/anaconda3/envs/python3/lib/python3.8/site-packages/pandas/core/indexing.py:1732: SettingWithCopyWarning: \n",
      "A value is trying to be set on a copy of a slice from a DataFrame\n",
      "\n",
      "See the caveats in the documentation: https://pandas.pydata.org/pandas-docs/stable/user_guide/indexing.html#returning-a-view-versus-a-copy\n",
      "  self._setitem_single_block(indexer, value, name)\n"
     ]
    }
   ],
   "source": [
    "df_all['분기'].loc[df_all['분기'] == 8] = 3\n",
    "df_all['분기'].loc[df_all['분기'] == 9] = 3\n",
    "df_all['분기'].loc[df_all['분기'] == 10] = 4\n",
    "df_all['분기'].loc[df_all['분기'] == 11] = 4\n",
    "df_all['분기'].loc[df_all['분기'] == 12] = 4"
   ]
  },
  {
   "cell_type": "code",
   "execution_count": 43,
   "id": "54a1cc48",
   "metadata": {},
   "outputs": [
    {
     "data": {
      "text/plain": [
       "array([3, 4, 1])"
      ]
     },
     "execution_count": 43,
     "metadata": {},
     "output_type": "execute_result"
    }
   ],
   "source": [
    "df_all['분기'].unique() #1월은 1분기라서 그냥 두었습니당"
   ]
  },
  {
   "cell_type": "code",
   "execution_count": 46,
   "id": "b6046819",
   "metadata": {},
   "outputs": [],
   "source": [
    "df_all['요일'] = df_all['new_등록일자'].dt.weekday"
   ]
  },
  {
   "cell_type": "code",
   "execution_count": 48,
   "id": "c015150f",
   "metadata": {},
   "outputs": [
    {
     "data": {
      "text/html": [
       "<div>\n",
       "<style scoped>\n",
       "    .dataframe tbody tr th:only-of-type {\n",
       "        vertical-align: middle;\n",
       "    }\n",
       "\n",
       "    .dataframe tbody tr th {\n",
       "        vertical-align: top;\n",
       "    }\n",
       "\n",
       "    .dataframe thead th {\n",
       "        text-align: right;\n",
       "    }\n",
       "</style>\n",
       "<table border=\"1\" class=\"dataframe\">\n",
       "  <thead>\n",
       "    <tr style=\"text-align: right;\">\n",
       "      <th></th>\n",
       "      <th>시리얼</th>\n",
       "      <th>방문자수</th>\n",
       "      <th>등록일자</th>\n",
       "      <th>new_등록일자</th>\n",
       "      <th>날짜</th>\n",
       "      <th>분기</th>\n",
       "      <th>요일</th>\n",
       "    </tr>\n",
       "  </thead>\n",
       "  <tbody>\n",
       "    <tr>\n",
       "      <th>0</th>\n",
       "      <td>4027.0</td>\n",
       "      <td>4.0</td>\n",
       "      <td>2021-08-30 0:00</td>\n",
       "      <td>2021-08-30</td>\n",
       "      <td>21-08-30</td>\n",
       "      <td>3</td>\n",
       "      <td>0</td>\n",
       "    </tr>\n",
       "    <tr>\n",
       "      <th>1</th>\n",
       "      <td>4033.0</td>\n",
       "      <td>8.0</td>\n",
       "      <td>2021-08-30 0:00</td>\n",
       "      <td>2021-08-30</td>\n",
       "      <td>21-08-30</td>\n",
       "      <td>3</td>\n",
       "      <td>0</td>\n",
       "    </tr>\n",
       "    <tr>\n",
       "      <th>2</th>\n",
       "      <td>4041.0</td>\n",
       "      <td>2.0</td>\n",
       "      <td>2021-08-30 0:00</td>\n",
       "      <td>2021-08-30</td>\n",
       "      <td>21-08-30</td>\n",
       "      <td>3</td>\n",
       "      <td>0</td>\n",
       "    </tr>\n",
       "  </tbody>\n",
       "</table>\n",
       "</div>"
      ],
      "text/plain": [
       "      시리얼  방문자수             등록일자   new_등록일자        날짜  분기  요일\n",
       "0  4027.0   4.0  2021-08-30 0:00 2021-08-30  21-08-30   3   0\n",
       "1  4033.0   8.0  2021-08-30 0:00 2021-08-30  21-08-30   3   0\n",
       "2  4041.0   2.0  2021-08-30 0:00 2021-08-30  21-08-30   3   0"
      ]
     },
     "execution_count": 48,
     "metadata": {},
     "output_type": "execute_result"
    }
   ],
   "source": [
    "df_all.head(3)"
   ]
  },
  {
   "cell_type": "code",
   "execution_count": 49,
   "id": "a282d546",
   "metadata": {},
   "outputs": [
    {
     "data": {
      "text/plain": [
       "array([0, 1, 3, 4, 5, 2, 6])"
      ]
     },
     "execution_count": 49,
     "metadata": {},
     "output_type": "execute_result"
    }
   ],
   "source": [
    "df_all['요일'].unique()\n",
    "# 0: 월, 1: 화 ....6: 일"
   ]
  },
  {
   "cell_type": "code",
   "execution_count": 50,
   "id": "25f23fec",
   "metadata": {},
   "outputs": [],
   "source": [
    "week_list = ['월', '화', '수', '목', '금', '토', '일']\n",
    "\n",
    "df_all['요일'] = df_all.apply(lambda x : week_list[x['요일']], axis = 1)"
   ]
  },
  {
   "cell_type": "code",
   "execution_count": 52,
   "id": "ae9e72e6",
   "metadata": {},
   "outputs": [
    {
     "data": {
      "text/html": [
       "<div>\n",
       "<style scoped>\n",
       "    .dataframe tbody tr th:only-of-type {\n",
       "        vertical-align: middle;\n",
       "    }\n",
       "\n",
       "    .dataframe tbody tr th {\n",
       "        vertical-align: top;\n",
       "    }\n",
       "\n",
       "    .dataframe thead th {\n",
       "        text-align: right;\n",
       "    }\n",
       "</style>\n",
       "<table border=\"1\" class=\"dataframe\">\n",
       "  <thead>\n",
       "    <tr style=\"text-align: right;\">\n",
       "      <th></th>\n",
       "      <th>시리얼</th>\n",
       "      <th>방문자수</th>\n",
       "      <th>등록일자</th>\n",
       "      <th>new_등록일자</th>\n",
       "      <th>날짜</th>\n",
       "      <th>분기</th>\n",
       "      <th>요일</th>\n",
       "    </tr>\n",
       "  </thead>\n",
       "  <tbody>\n",
       "    <tr>\n",
       "      <th>0</th>\n",
       "      <td>4027.0</td>\n",
       "      <td>4.0</td>\n",
       "      <td>2021-08-30 0:00</td>\n",
       "      <td>2021-08-30</td>\n",
       "      <td>21-08-30</td>\n",
       "      <td>3</td>\n",
       "      <td>월</td>\n",
       "    </tr>\n",
       "    <tr>\n",
       "      <th>1</th>\n",
       "      <td>4033.0</td>\n",
       "      <td>8.0</td>\n",
       "      <td>2021-08-30 0:00</td>\n",
       "      <td>2021-08-30</td>\n",
       "      <td>21-08-30</td>\n",
       "      <td>3</td>\n",
       "      <td>월</td>\n",
       "    </tr>\n",
       "    <tr>\n",
       "      <th>2</th>\n",
       "      <td>4041.0</td>\n",
       "      <td>2.0</td>\n",
       "      <td>2021-08-30 0:00</td>\n",
       "      <td>2021-08-30</td>\n",
       "      <td>21-08-30</td>\n",
       "      <td>3</td>\n",
       "      <td>월</td>\n",
       "    </tr>\n",
       "    <tr>\n",
       "      <th>3</th>\n",
       "      <td>4015.0</td>\n",
       "      <td>3.0</td>\n",
       "      <td>2021-08-30 0:00</td>\n",
       "      <td>2021-08-30</td>\n",
       "      <td>21-08-30</td>\n",
       "      <td>3</td>\n",
       "      <td>월</td>\n",
       "    </tr>\n",
       "    <tr>\n",
       "      <th>4</th>\n",
       "      <td>4031.0</td>\n",
       "      <td>3.0</td>\n",
       "      <td>2021-08-30 0:00</td>\n",
       "      <td>2021-08-30</td>\n",
       "      <td>21-08-30</td>\n",
       "      <td>3</td>\n",
       "      <td>월</td>\n",
       "    </tr>\n",
       "  </tbody>\n",
       "</table>\n",
       "</div>"
      ],
      "text/plain": [
       "      시리얼  방문자수             등록일자   new_등록일자        날짜  분기 요일\n",
       "0  4027.0   4.0  2021-08-30 0:00 2021-08-30  21-08-30   3  월\n",
       "1  4033.0   8.0  2021-08-30 0:00 2021-08-30  21-08-30   3  월\n",
       "2  4041.0   2.0  2021-08-30 0:00 2021-08-30  21-08-30   3  월\n",
       "3  4015.0   3.0  2021-08-30 0:00 2021-08-30  21-08-30   3  월\n",
       "4  4031.0   3.0  2021-08-30 0:00 2021-08-30  21-08-30   3  월"
      ]
     },
     "execution_count": 52,
     "metadata": {},
     "output_type": "execute_result"
    }
   ],
   "source": [
    "df_all.head()"
   ]
  },
  {
   "cell_type": "code",
   "execution_count": 53,
   "id": "6087d681",
   "metadata": {},
   "outputs": [],
   "source": [
    "df_all['시간'] = df_all['new_등록일자'].dt.strftime('%H:%M')"
   ]
  },
  {
   "cell_type": "code",
   "execution_count": 54,
   "id": "726a2bd1",
   "metadata": {},
   "outputs": [
    {
     "data": {
      "text/html": [
       "<div>\n",
       "<style scoped>\n",
       "    .dataframe tbody tr th:only-of-type {\n",
       "        vertical-align: middle;\n",
       "    }\n",
       "\n",
       "    .dataframe tbody tr th {\n",
       "        vertical-align: top;\n",
       "    }\n",
       "\n",
       "    .dataframe thead th {\n",
       "        text-align: right;\n",
       "    }\n",
       "</style>\n",
       "<table border=\"1\" class=\"dataframe\">\n",
       "  <thead>\n",
       "    <tr style=\"text-align: right;\">\n",
       "      <th></th>\n",
       "      <th>시리얼</th>\n",
       "      <th>방문자수</th>\n",
       "      <th>등록일자</th>\n",
       "      <th>new_등록일자</th>\n",
       "      <th>날짜</th>\n",
       "      <th>분기</th>\n",
       "      <th>요일</th>\n",
       "      <th>시간</th>\n",
       "    </tr>\n",
       "  </thead>\n",
       "  <tbody>\n",
       "    <tr>\n",
       "      <th>0</th>\n",
       "      <td>4027.0</td>\n",
       "      <td>4.0</td>\n",
       "      <td>2021-08-30 0:00</td>\n",
       "      <td>2021-08-30</td>\n",
       "      <td>21-08-30</td>\n",
       "      <td>3</td>\n",
       "      <td>월</td>\n",
       "      <td>00:00</td>\n",
       "    </tr>\n",
       "    <tr>\n",
       "      <th>1</th>\n",
       "      <td>4033.0</td>\n",
       "      <td>8.0</td>\n",
       "      <td>2021-08-30 0:00</td>\n",
       "      <td>2021-08-30</td>\n",
       "      <td>21-08-30</td>\n",
       "      <td>3</td>\n",
       "      <td>월</td>\n",
       "      <td>00:00</td>\n",
       "    </tr>\n",
       "    <tr>\n",
       "      <th>2</th>\n",
       "      <td>4041.0</td>\n",
       "      <td>2.0</td>\n",
       "      <td>2021-08-30 0:00</td>\n",
       "      <td>2021-08-30</td>\n",
       "      <td>21-08-30</td>\n",
       "      <td>3</td>\n",
       "      <td>월</td>\n",
       "      <td>00:00</td>\n",
       "    </tr>\n",
       "    <tr>\n",
       "      <th>3</th>\n",
       "      <td>4015.0</td>\n",
       "      <td>3.0</td>\n",
       "      <td>2021-08-30 0:00</td>\n",
       "      <td>2021-08-30</td>\n",
       "      <td>21-08-30</td>\n",
       "      <td>3</td>\n",
       "      <td>월</td>\n",
       "      <td>00:00</td>\n",
       "    </tr>\n",
       "    <tr>\n",
       "      <th>4</th>\n",
       "      <td>4031.0</td>\n",
       "      <td>3.0</td>\n",
       "      <td>2021-08-30 0:00</td>\n",
       "      <td>2021-08-30</td>\n",
       "      <td>21-08-30</td>\n",
       "      <td>3</td>\n",
       "      <td>월</td>\n",
       "      <td>00:00</td>\n",
       "    </tr>\n",
       "  </tbody>\n",
       "</table>\n",
       "</div>"
      ],
      "text/plain": [
       "      시리얼  방문자수             등록일자   new_등록일자        날짜  분기 요일     시간\n",
       "0  4027.0   4.0  2021-08-30 0:00 2021-08-30  21-08-30   3  월  00:00\n",
       "1  4033.0   8.0  2021-08-30 0:00 2021-08-30  21-08-30   3  월  00:00\n",
       "2  4041.0   2.0  2021-08-30 0:00 2021-08-30  21-08-30   3  월  00:00\n",
       "3  4015.0   3.0  2021-08-30 0:00 2021-08-30  21-08-30   3  월  00:00\n",
       "4  4031.0   3.0  2021-08-30 0:00 2021-08-30  21-08-30   3  월  00:00"
      ]
     },
     "execution_count": 54,
     "metadata": {},
     "output_type": "execute_result"
    }
   ],
   "source": [
    "df_all.head()"
   ]
  },
  {
   "cell_type": "code",
   "execution_count": 55,
   "id": "f7071379",
   "metadata": {},
   "outputs": [
    {
     "data": {
      "text/html": [
       "<div>\n",
       "<style scoped>\n",
       "    .dataframe tbody tr th:only-of-type {\n",
       "        vertical-align: middle;\n",
       "    }\n",
       "\n",
       "    .dataframe tbody tr th {\n",
       "        vertical-align: top;\n",
       "    }\n",
       "\n",
       "    .dataframe thead th {\n",
       "        text-align: right;\n",
       "    }\n",
       "</style>\n",
       "<table border=\"1\" class=\"dataframe\">\n",
       "  <thead>\n",
       "    <tr style=\"text-align: right;\">\n",
       "      <th></th>\n",
       "      <th>시리얼</th>\n",
       "      <th>방문자수</th>\n",
       "      <th>등록일자</th>\n",
       "      <th>new_등록일자</th>\n",
       "      <th>날짜</th>\n",
       "      <th>분기</th>\n",
       "      <th>요일</th>\n",
       "      <th>시간</th>\n",
       "    </tr>\n",
       "  </thead>\n",
       "  <tbody>\n",
       "    <tr>\n",
       "      <th>1469757</th>\n",
       "      <td>4040.0</td>\n",
       "      <td>9.0</td>\n",
       "      <td>2022-01-02 23:57:42</td>\n",
       "      <td>2022-01-02 23:57:42</td>\n",
       "      <td>22-01-02</td>\n",
       "      <td>1</td>\n",
       "      <td>일</td>\n",
       "      <td>23:57</td>\n",
       "    </tr>\n",
       "    <tr>\n",
       "      <th>1469758</th>\n",
       "      <td>4042.0</td>\n",
       "      <td>1.0</td>\n",
       "      <td>2022-01-02 23:57:48</td>\n",
       "      <td>2022-01-02 23:57:48</td>\n",
       "      <td>22-01-02</td>\n",
       "      <td>1</td>\n",
       "      <td>일</td>\n",
       "      <td>23:57</td>\n",
       "    </tr>\n",
       "    <tr>\n",
       "      <th>1469759</th>\n",
       "      <td>4025.0</td>\n",
       "      <td>0.0</td>\n",
       "      <td>2022-01-02 23:57:52</td>\n",
       "      <td>2022-01-02 23:57:52</td>\n",
       "      <td>22-01-02</td>\n",
       "      <td>1</td>\n",
       "      <td>일</td>\n",
       "      <td>23:57</td>\n",
       "    </tr>\n",
       "    <tr>\n",
       "      <th>1469760</th>\n",
       "      <td>4044.0</td>\n",
       "      <td>0.0</td>\n",
       "      <td>2022-01-02 23:58:05</td>\n",
       "      <td>2022-01-02 23:58:05</td>\n",
       "      <td>22-01-02</td>\n",
       "      <td>1</td>\n",
       "      <td>일</td>\n",
       "      <td>23:58</td>\n",
       "    </tr>\n",
       "    <tr>\n",
       "      <th>1469761</th>\n",
       "      <td>4044.0</td>\n",
       "      <td>0.0</td>\n",
       "      <td>2022-01-02 23:59:06</td>\n",
       "      <td>2022-01-02 23:59:06</td>\n",
       "      <td>22-01-02</td>\n",
       "      <td>1</td>\n",
       "      <td>일</td>\n",
       "      <td>23:59</td>\n",
       "    </tr>\n",
       "  </tbody>\n",
       "</table>\n",
       "</div>"
      ],
      "text/plain": [
       "            시리얼  방문자수                 등록일자            new_등록일자        날짜  분기  \\\n",
       "1469757  4040.0   9.0  2022-01-02 23:57:42 2022-01-02 23:57:42  22-01-02   1   \n",
       "1469758  4042.0   1.0  2022-01-02 23:57:48 2022-01-02 23:57:48  22-01-02   1   \n",
       "1469759  4025.0   0.0  2022-01-02 23:57:52 2022-01-02 23:57:52  22-01-02   1   \n",
       "1469760  4044.0   0.0  2022-01-02 23:58:05 2022-01-02 23:58:05  22-01-02   1   \n",
       "1469761  4044.0   0.0  2022-01-02 23:59:06 2022-01-02 23:59:06  22-01-02   1   \n",
       "\n",
       "        요일     시간  \n",
       "1469757  일  23:57  \n",
       "1469758  일  23:57  \n",
       "1469759  일  23:57  \n",
       "1469760  일  23:58  \n",
       "1469761  일  23:59  "
      ]
     },
     "execution_count": 55,
     "metadata": {},
     "output_type": "execute_result"
    }
   ],
   "source": [
    "df_all.tail()"
   ]
  },
  {
   "cell_type": "code",
   "execution_count": 57,
   "id": "9620a2b7",
   "metadata": {},
   "outputs": [],
   "source": [
    "df_new = df_all[['시리얼', '방문자수', '날짜', '분기', '시간', '요일']]"
   ]
  },
  {
   "cell_type": "code",
   "execution_count": 58,
   "id": "ac5ca7e3",
   "metadata": {},
   "outputs": [
    {
     "data": {
      "text/html": [
       "<div>\n",
       "<style scoped>\n",
       "    .dataframe tbody tr th:only-of-type {\n",
       "        vertical-align: middle;\n",
       "    }\n",
       "\n",
       "    .dataframe tbody tr th {\n",
       "        vertical-align: top;\n",
       "    }\n",
       "\n",
       "    .dataframe thead th {\n",
       "        text-align: right;\n",
       "    }\n",
       "</style>\n",
       "<table border=\"1\" class=\"dataframe\">\n",
       "  <thead>\n",
       "    <tr style=\"text-align: right;\">\n",
       "      <th></th>\n",
       "      <th>시리얼</th>\n",
       "      <th>방문자수</th>\n",
       "      <th>날짜</th>\n",
       "      <th>분기</th>\n",
       "      <th>시간</th>\n",
       "      <th>요일</th>\n",
       "    </tr>\n",
       "  </thead>\n",
       "  <tbody>\n",
       "    <tr>\n",
       "      <th>0</th>\n",
       "      <td>4027.0</td>\n",
       "      <td>4.0</td>\n",
       "      <td>21-08-30</td>\n",
       "      <td>3</td>\n",
       "      <td>00:00</td>\n",
       "      <td>월</td>\n",
       "    </tr>\n",
       "    <tr>\n",
       "      <th>1</th>\n",
       "      <td>4033.0</td>\n",
       "      <td>8.0</td>\n",
       "      <td>21-08-30</td>\n",
       "      <td>3</td>\n",
       "      <td>00:00</td>\n",
       "      <td>월</td>\n",
       "    </tr>\n",
       "    <tr>\n",
       "      <th>2</th>\n",
       "      <td>4041.0</td>\n",
       "      <td>2.0</td>\n",
       "      <td>21-08-30</td>\n",
       "      <td>3</td>\n",
       "      <td>00:00</td>\n",
       "      <td>월</td>\n",
       "    </tr>\n",
       "    <tr>\n",
       "      <th>3</th>\n",
       "      <td>4015.0</td>\n",
       "      <td>3.0</td>\n",
       "      <td>21-08-30</td>\n",
       "      <td>3</td>\n",
       "      <td>00:00</td>\n",
       "      <td>월</td>\n",
       "    </tr>\n",
       "    <tr>\n",
       "      <th>4</th>\n",
       "      <td>4031.0</td>\n",
       "      <td>3.0</td>\n",
       "      <td>21-08-30</td>\n",
       "      <td>3</td>\n",
       "      <td>00:00</td>\n",
       "      <td>월</td>\n",
       "    </tr>\n",
       "  </tbody>\n",
       "</table>\n",
       "</div>"
      ],
      "text/plain": [
       "      시리얼  방문자수        날짜  분기     시간 요일\n",
       "0  4027.0   4.0  21-08-30   3  00:00  월\n",
       "1  4033.0   8.0  21-08-30   3  00:00  월\n",
       "2  4041.0   2.0  21-08-30   3  00:00  월\n",
       "3  4015.0   3.0  21-08-30   3  00:00  월\n",
       "4  4031.0   3.0  21-08-30   3  00:00  월"
      ]
     },
     "execution_count": 58,
     "metadata": {},
     "output_type": "execute_result"
    }
   ],
   "source": [
    "df_new.head()"
   ]
  },
  {
   "cell_type": "code",
   "execution_count": 59,
   "id": "64d10000",
   "metadata": {},
   "outputs": [
    {
     "name": "stdout",
     "output_type": "stream",
     "text": [
      "<class 'pandas.core.frame.DataFrame'>\n",
      "Int64Index: 1469760 entries, 0 to 1469761\n",
      "Data columns (total 6 columns):\n",
      " #   Column  Non-Null Count    Dtype  \n",
      "---  ------  --------------    -----  \n",
      " 0   시리얼     1469760 non-null  float64\n",
      " 1   방문자수    1469760 non-null  float64\n",
      " 2   날짜      1469760 non-null  object \n",
      " 3   분기      1469760 non-null  int64  \n",
      " 4   시간      1469760 non-null  object \n",
      " 5   요일      1469760 non-null  object \n",
      "dtypes: float64(2), int64(1), object(3)\n",
      "memory usage: 78.5+ MB\n"
     ]
    }
   ],
   "source": [
    "df_new.info()"
   ]
  },
  {
   "cell_type": "code",
   "execution_count": 61,
   "id": "3a10f1d1",
   "metadata": {},
   "outputs": [],
   "source": [
    "df_new.to_csv('S-DoT_WALK_2021_3,4분기.csv', encoding = 'cp949')"
   ]
  },
  {
   "cell_type": "code",
   "execution_count": null,
   "id": "35639c2e",
   "metadata": {},
   "outputs": [],
   "source": []
  }
 ],
 "metadata": {
  "kernelspec": {
   "display_name": "Python 3 (ipykernel)",
   "language": "python",
   "name": "python3"
  },
  "language_info": {
   "codemirror_mode": {
    "name": "ipython",
    "version": 3
   },
   "file_extension": ".py",
   "mimetype": "text/x-python",
   "name": "python",
   "nbconvert_exporter": "python",
   "pygments_lexer": "ipython3",
   "version": "3.8.12"
  }
 },
 "nbformat": 4,
 "nbformat_minor": 5
}
